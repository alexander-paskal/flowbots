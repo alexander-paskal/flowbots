{
 "cells": [
  {
   "cell_type": "code",
   "execution_count": null,
   "id": "2abaaa57-50e4-4474-be8f-723eaf7e3822",
   "metadata": {},
   "outputs": [],
   "source": [
    "from models.flownetS import FlowNetS\n",
    "import torch\n",
    "import torch.optim as optim\n",
    "from torch.utils.data import DataLoader\n",
    "\n",
    "import matplotlib.pyplot as plt\n",
    "import numpy as np\n",
    "\n",
    "from datasets import flying_chairs\n",
    "\n",
    "import json\n",
    "\n",
    "\n",
    "train_dataset = flying_chairs(split=\"train\")\n",
    "train_loader = DataLoader(train_dataset, batch_size=16, shuffle=True)\n",
    "\n",
    "val_dataset = flying_chairs(split=\"val\")\n",
    "val_loader = DataLoader(val_dataset, batch_size=16, shuffle=True)\n",
    "\n",
    "\n",
    "from utils import HardwareManager, train, initialize\n",
    "HardwareManager.dtype = torch.float32\n",
    "\n",
    "model = initialize(FlowNetS)\n",
    "optimizer = torch.optim.Adam(model.parameters(), lr=1e-3)\n",
    "\n",
    "model, results = train(model, optimizer, train_loader, epochs=1)\n"
   ]
  }
 ],
 "metadata": {
  "kernelspec": {
   "display_name": "Python 3 (ipykernel)",
   "language": "python",
   "name": "python3"
  },
  "language_info": {
   "codemirror_mode": {
    "name": "ipython",
    "version": 3
   },
   "file_extension": ".py",
   "mimetype": "text/x-python",
   "name": "python",
   "nbconvert_exporter": "python",
   "pygments_lexer": "ipython3",
   "version": "3.9.5"
  }
 },
 "nbformat": 4,
 "nbformat_minor": 5
}

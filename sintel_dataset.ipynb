{
 "cells": [
  {
   "cell_type": "code",
   "execution_count": 1,
   "id": "c38990c1-442a-4856-bfac-a7c06d84580a",
   "metadata": {},
   "outputs": [],
   "source": [
    "import torch\n",
    "import torchvision as tv\n",
    "import matplotlib.pyplot as plt\n",
    "import numpy as np\n",
    "\n",
    "import json"
   ]
  },
  {
   "cell_type": "code",
   "execution_count": 2,
   "id": "5c753d72-7065-4760-b4bf-769fab9f686a",
   "metadata": {},
   "outputs": [
    {
     "name": "stdout",
     "output_type": "stream",
     "text": [
      "{'flying_chairs': 'C:\\\\Datasets', 'flying_things_3d': 'C:\\\\Datasets', 'sintel': 'C:\\\\Datasets'}\n"
     ]
    }
   ],
   "source": [
    "with open(\"config.json\") as f:\n",
    "    cfg = json.load(f)\n",
    "\n",
    "print(cfg)\n",
    "fc = tv.datasets.Sintel(cfg[\"sintel\"])"
   ]
  },
  {
   "cell_type": "code",
   "execution_count": 3,
   "id": "5c2410bb-b192-46ac-8ba6-9bb6b2a8e0d6",
   "metadata": {},
   "outputs": [
    {
     "data": {
      "text/plain": [
       "Dataset Sintel\n",
       "    Number of datapoints: 1041\n",
       "    Root location: C:\\Datasets"
      ]
     },
     "execution_count": 3,
     "metadata": {},
     "output_type": "execute_result"
    }
   ],
   "source": [
    "sintel"
   ]
  },
  {
   "cell_type": "code",
   "execution_count": 4,
   "id": "f5b644d2-8a97-4650-a5ff-b13480c4290c",
   "metadata": {},
   "outputs": [],
   "source": [
    "# for visualizing flow, add a dummy dimension for the third rgb channel\n",
    "def display_flow(flow):\n",
    "    flow_im = np.concatenate([flow, np.zeros((1, *flow.shape[1:]))], axis=0)\n",
    "    flow_im = np.transpose(flow_im, (1, 2, 0))\n",
    "    print(flow_im.shape)\n",
    "\n",
    "    xdim, ydim, _ = flow_im.shape\n",
    "    # normalize horizontal and vertical flows by their respective image dimensions\n",
    "    flow_im[:, :, 0] = flow_im[:, :, 0] / xdim\n",
    "    flow_im[:, :, 1] = flow_im[:, :, 1] / ydim\n",
    "\n",
    "    # normalize to between one and 0 for image display, this is NOT to be done with the training data\n",
    "    flow_im -= flow_im.min()\n",
    "    flow_im /= flow_im.max()\n",
    "\n",
    "    plt.hist(flow_im.flatten(), bins=100)  # for visualizing the distribution of values, just for troubleshooting\n",
    "    plt.title(\"Flow Values (normalized to [0, 1] for display)\")\n",
    "    plt.show()\n",
    "    plt.imshow(flow_im)\n",
    "    plt.show()\n",
    "    \n",
    "im1, im2, flow = fc[8]\n",
    "display_flow(flow)\n",
    "plt.imshow(im1)\n",
    "plt.show()\n",
    "plt.imshow(im2)\n",
    "plt.show()"
   ]
  },
  {
   "cell_type": "code",
   "execution_count": 5,
   "id": "7a431442-4c66-4eaf-bd67-4b7bb387b115",
   "metadata": {},
   "outputs": [
    {
     "data": {
      "text/plain": [
       "(<PIL.PngImagePlugin.PngImageFile image mode=RGB size=1024x436>,\n",
       " <PIL.PngImagePlugin.PngImageFile image mode=RGB size=1024x436>,\n",
       " array([[[-1.7860807e+00, -1.7825822e+00, -1.7790880e+00, ...,\n",
       "          -1.3364516e+00, -1.3383425e+00, -1.3402368e+00],\n",
       "         [-1.7865164e+00, -1.7830170e+00, -1.7795222e+00, ...,\n",
       "          -1.3362755e+00, -1.3381656e+00, -1.3400594e+00],\n",
       "         [-1.7869519e+00, -1.7834519e+00, -1.7799567e+00, ...,\n",
       "          -1.3360990e+00, -1.3379887e+00, -1.3398818e+00],\n",
       "         ...,\n",
       "         [-2.1561654e+00, -2.1541319e+00, -2.1521018e+00, ...,\n",
       "          -1.6117312e+00, -1.6130352e+00, -1.6143483e+00],\n",
       "         [-2.1568680e+00, -2.1548333e+00, -2.1528025e+00, ...,\n",
       "          -1.6116712e+00, -1.6129746e+00, -1.6142817e+00],\n",
       "         [-2.0454972e+00, -2.0432374e+00, -2.0409813e+00, ...,\n",
       "          -1.6116205e+00, -1.6129239e+00, -1.6142308e+00]],\n",
       " \n",
       "        [[ 5.4413948e-04,  1.2245859e-03,  1.9049932e-03, ...,\n",
       "           5.9397972e-01,  5.9450960e-01,  5.9503943e-01],\n",
       "         [ 1.3228894e-03,  2.0011833e-03,  2.6794174e-03, ...,\n",
       "           5.9285700e-01,  5.9338516e-01,  5.9391332e-01],\n",
       "         [ 2.1029487e-03,  2.7790158e-03,  3.4550659e-03, ...,\n",
       "           5.9173542e-01,  5.9226191e-01,  5.9278840e-01],\n",
       "         ...,\n",
       "         [ 4.5921785e-01,  4.5901209e-01,  4.5880625e-01, ...,\n",
       "           2.4024840e-01,  2.4003255e-01,  2.3981754e-01],\n",
       "         [ 4.6058962e-01,  4.6038204e-01,  4.6017450e-01, ...,\n",
       "           2.3980677e-01,  2.3958915e-01,  2.3937151e-01],\n",
       "         [ 4.5820400e-01,  4.5798746e-01,  4.5777088e-01, ...,\n",
       "           2.3935707e-01,  2.3913707e-01,  2.3891707e-01]]], dtype=float32))"
      ]
     },
     "execution_count": 5,
     "metadata": {},
     "output_type": "execute_result"
    }
   ],
   "source": [
    "a"
   ]
  },
  {
   "cell_type": "code",
   "execution_count": null,
   "id": "d34e0d99-ea64-4250-b323-d1b50003b5fd",
   "metadata": {},
   "outputs": [],
   "source": []
  }
 ],
 "metadata": {
  "kernelspec": {
   "display_name": "Python 3 (ipykernel)",
   "language": "python",
   "name": "python3"
  },
  "language_info": {
   "codemirror_mode": {
    "name": "ipython",
    "version": 3
   },
   "file_extension": ".py",
   "mimetype": "text/x-python",
   "name": "python",
   "nbconvert_exporter": "python",
   "pygments_lexer": "ipython3",
   "version": "3.9.5"
  }
 },
 "nbformat": 4,
 "nbformat_minor": 5
}

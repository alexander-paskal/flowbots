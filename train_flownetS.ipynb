{
 "cells": [
  {
   "cell_type": "code",
   "execution_count": 7,
   "id": "8db4a4eb-b635-4ef1-97ec-5f226e24d135",
   "metadata": {},
   "outputs": [],
   "source": [
    "from models.flownetS import FlowNetS\n",
    "import torch\n",
    "import torch.optim as optim\n",
    "from torch.utils.data import DataLoader\n",
    "\n",
    "import matplotlib.pyplot as plt\n",
    "import numpy as np\n",
    "\n",
    "from datasets import flying_chairs\n",
    "\n",
    "import json"
   ]
  },
  {
   "cell_type": "code",
   "execution_count": 8,
   "id": "b4ff3ce9-8f1a-4e5c-8fea-184874f76d83",
   "metadata": {},
   "outputs": [],
   "source": [
    "train_dataset = flying_chairs(split=\"train\")\n",
    "train_loader = DataLoader(train_dataset, batch_size=16, shuffle=True)\n",
    "\n",
    "val_dataset = flying_chairs(split=\"val\")\n",
    "val_loader = DataLoader(val_dataset, batch_size=16, shuffle=True)"
   ]
  },
  {
   "cell_type": "code",
   "execution_count": 15,
   "id": "33494beb-e9da-463b-a47d-9ddec8a90481",
   "metadata": {},
   "outputs": [
    {
     "name": "stdout",
     "output_type": "stream",
     "text": [
      "using device: cuda\n"
     ]
    }
   ],
   "source": [
    "USE_GPU = True\n",
    "num_class = 100\n",
    "dtype = torch.float32 # we will be using float throughout this tutorial\n",
    "\n",
    "if USE_GPU and torch.cuda.is_available():\n",
    "    device = torch.device('cuda')\n",
    "else:\n",
    "    device = torch.device('cpu')\n",
    "\n",
    "# Constant to control how frequently we print train loss\n",
    "print_every = 100\n",
    "\n",
    "print('using device:', device)"
   ]
  },
  {
   "cell_type": "code",
   "execution_count": 10,
   "id": "fa89af9f-cc9f-475e-8263-cc7e725c4720",
   "metadata": {},
   "outputs": [],
   "source": [
    "def epe_loss(pred, label):\n",
    "    loss = torch.norm(label - pred, p=2, dim=1).mean()\n",
    "    return loss"
   ]
  },
  {
   "cell_type": "code",
   "execution_count": 11,
   "id": "e731eda3-624a-41bc-ac64-3a055cc068c4",
   "metadata": {},
   "outputs": [
    {
     "data": {
      "text/plain": [
       "tensor(0.2222)"
      ]
     },
     "execution_count": 11,
     "metadata": {},
     "output_type": "execute_result"
    }
   ],
   "source": [
    "*_, flow = train_dataset[0]\n",
    "flow.size()\n",
    "\n",
    "dummy = torch.zeros((2, 384, 512))\n",
    "epe_loss(dummy, flow)"
   ]
  },
  {
   "cell_type": "code",
   "execution_count": 16,
   "id": "cd392fff-0ea9-4672-a20b-5c39694da0d4",
   "metadata": {},
   "outputs": [],
   "source": [
    "def train(model, dataloader, epochs, **kwargs):\n",
    "    optimizer = optim.Adam(model.parameters(), **kwargs)  # learning rate\n",
    "    for e in range(epochs):\n",
    "        for i, (im1, im2, y) in enumerate(dataloader):\n",
    "            \n",
    "            x = torch.cat([im1, im2], dim=1)\n",
    "            \n",
    "            model.train()\n",
    "            x = x.to(device)\n",
    "            y = y.to(device)\n",
    "            \n",
    "            # concatenate\n",
    "            pred = model(x)\n",
    "            loss = epe_loss(pred, y)\n",
    "            \n",
    "            optimizer.zero_grad()\n",
    "            loss.backward()\n",
    "            optimizer.step()\n",
    "            print(\"loss:\", loss.item())\n",
    "\n",
    "torch.cuda.empty_cache()\n",
    "            \n",
    "model = FlowNetS()\n",
    "model = model.to(device)\n",
    "# train(model, train_loader, epochs=1, lr=0.0001)\n"
   ]
  },
  {
   "cell_type": "code",
   "execution_count": 17,
   "id": "b73307c6-179e-4e17-863a-c9a06efb1493",
   "metadata": {},
   "outputs": [
    {
     "ename": "RuntimeError",
     "evalue": "norm(): input dtype should be either floating point or complex dtypes. Got Long instead.",
     "output_type": "error",
     "traceback": [
      "\u001b[1;31m---------------------------------------------------------------------------\u001b[0m",
      "\u001b[1;31mRuntimeError\u001b[0m                              Traceback (most recent call last)",
      "Input \u001b[1;32mIn [17]\u001b[0m, in \u001b[0;36m<cell line: 5>\u001b[1;34m()\u001b[0m\n\u001b[0;32m      2\u001b[0m \u001b[38;5;28;01mimport\u001b[39;00m \u001b[38;5;21;01mutils\u001b[39;00m\n\u001b[0;32m      3\u001b[0m HardwareManager\u001b[38;5;241m.\u001b[39mdtype \u001b[38;5;241m=\u001b[39m torch\u001b[38;5;241m.\u001b[39mfloat32\n\u001b[1;32m----> 5\u001b[0m \u001b[43mutils\u001b[49m\u001b[38;5;241;43m.\u001b[39;49m\u001b[43meval\u001b[49m\u001b[43m(\u001b[49m\u001b[43mval_loader\u001b[49m\u001b[43m,\u001b[49m\u001b[43m \u001b[49m\u001b[43mmodel\u001b[49m\u001b[43m)\u001b[49m\n",
      "File \u001b[1;32mC:\\Projects\\flowbots\\utils.py:112\u001b[0m, in \u001b[0;36meval\u001b[1;34m(loader, model)\u001b[0m\n\u001b[0;32m    109\u001b[0m     loss \u001b[38;5;241m=\u001b[39m epe_loss(pred, y)\u001b[38;5;241m.\u001b[39mitem()\n\u001b[0;32m    110\u001b[0m     losses\u001b[38;5;241m.\u001b[39mappend(loss)\n\u001b[1;32m--> 112\u001b[0m     f1_ratio \u001b[38;5;241m=\u001b[39m \u001b[43mf1_all\u001b[49m\u001b[43m(\u001b[49m\u001b[43mpred\u001b[49m\u001b[43m,\u001b[49m\u001b[43m \u001b[49m\u001b[43my\u001b[49m\u001b[43m)\u001b[49m\u001b[38;5;241m.\u001b[39mitem()\n\u001b[0;32m    113\u001b[0m     f1_ratios\u001b[38;5;241m.\u001b[39mappend(f1_ratio)\n\u001b[0;32m    115\u001b[0m avg_loss \u001b[38;5;241m=\u001b[39m torch\u001b[38;5;241m.\u001b[39mtensor(losses)\u001b[38;5;241m.\u001b[39mmean()\u001b[38;5;241m.\u001b[39mitem()\n",
      "File \u001b[1;32mC:\\Projects\\flowbots\\losses.py:27\u001b[0m, in \u001b[0;36mf1_all\u001b[1;34m(pred, label)\u001b[0m\n\u001b[0;32m     20\u001b[0m \u001b[38;5;124;03m\"\"\"\u001b[39;00m\n\u001b[0;32m     21\u001b[0m \u001b[38;5;124;03mReturns the f1_all error\u001b[39;00m\n\u001b[0;32m     22\u001b[0m \u001b[38;5;124;03m:param pred:\u001b[39;00m\n\u001b[0;32m     23\u001b[0m \u001b[38;5;124;03m:param label:\u001b[39;00m\n\u001b[0;32m     24\u001b[0m \u001b[38;5;124;03m:return:\u001b[39;00m\n\u001b[0;32m     25\u001b[0m \u001b[38;5;124;03m\"\"\"\u001b[39;00m\n\u001b[0;32m     26\u001b[0m pred \u001b[38;5;241m=\u001b[39m torch\u001b[38;5;241m.\u001b[39mnorm(pred, p\u001b[38;5;241m=\u001b[39m\u001b[38;5;241m2\u001b[39m, dim\u001b[38;5;241m=\u001b[39m\u001b[38;5;241m1\u001b[39m)\n\u001b[1;32m---> 27\u001b[0m label \u001b[38;5;241m=\u001b[39m \u001b[43mtorch\u001b[49m\u001b[38;5;241;43m.\u001b[39;49m\u001b[43mnorm\u001b[49m\u001b[43m(\u001b[49m\u001b[43mlabel\u001b[49m\u001b[43m,\u001b[49m\u001b[43m \u001b[49m\u001b[43mp\u001b[49m\u001b[38;5;241;43m=\u001b[39;49m\u001b[38;5;241;43m2\u001b[39;49m\u001b[43m,\u001b[49m\u001b[43m \u001b[49m\u001b[43mdim\u001b[49m\u001b[38;5;241;43m=\u001b[39;49m\u001b[38;5;241;43m1\u001b[39;49m\u001b[43m)\u001b[49m\n\u001b[0;32m     29\u001b[0m diff \u001b[38;5;241m=\u001b[39m pred \u001b[38;5;241m-\u001b[39m label\n\u001b[0;32m     30\u001b[0m diff_percent \u001b[38;5;241m=\u001b[39m torch\u001b[38;5;241m.\u001b[39mdivide(label, diff)  \u001b[38;5;66;03m# calculates the difference in the metrics\u001b[39;00m\n",
      "File \u001b[1;32m~\\.conda\\envs\\ece285\\lib\\site-packages\\torch\\functional.py:1590\u001b[0m, in \u001b[0;36mnorm\u001b[1;34m(input, p, dim, keepdim, out, dtype)\u001b[0m\n\u001b[0;32m   1588\u001b[0m \u001b[38;5;28;01mif\u001b[39;00m out \u001b[38;5;129;01mis\u001b[39;00m \u001b[38;5;28;01mNone\u001b[39;00m:\n\u001b[0;32m   1589\u001b[0m     \u001b[38;5;28;01mif\u001b[39;00m dtype \u001b[38;5;129;01mis\u001b[39;00m \u001b[38;5;28;01mNone\u001b[39;00m:\n\u001b[1;32m-> 1590\u001b[0m         \u001b[38;5;28;01mreturn\u001b[39;00m \u001b[43m_VF\u001b[49m\u001b[38;5;241;43m.\u001b[39;49m\u001b[43mnorm\u001b[49m\u001b[43m(\u001b[49m\u001b[38;5;28;43minput\u001b[39;49m\u001b[43m,\u001b[49m\u001b[43m \u001b[49m\u001b[43mp\u001b[49m\u001b[43m,\u001b[49m\u001b[43m \u001b[49m\u001b[43m_dim\u001b[49m\u001b[43m,\u001b[49m\u001b[43m \u001b[49m\u001b[43mkeepdim\u001b[49m\u001b[38;5;241;43m=\u001b[39;49m\u001b[43mkeepdim\u001b[49m\u001b[43m)\u001b[49m  \u001b[38;5;66;03m# type: ignore[attr-defined]\u001b[39;00m\n\u001b[0;32m   1591\u001b[0m     \u001b[38;5;28;01melse\u001b[39;00m:\n\u001b[0;32m   1592\u001b[0m         \u001b[38;5;28;01mreturn\u001b[39;00m _VF\u001b[38;5;241m.\u001b[39mnorm(\u001b[38;5;28minput\u001b[39m, p, _dim, keepdim\u001b[38;5;241m=\u001b[39mkeepdim, dtype\u001b[38;5;241m=\u001b[39mdtype)  \u001b[38;5;66;03m# type: ignore[attr-defined]\u001b[39;00m\n",
      "\u001b[1;31mRuntimeError\u001b[0m: norm(): input dtype should be either floating point or complex dtypes. Got Long instead."
     ]
    }
   ],
   "source": [
    "from utils import HardwareManager\n",
    "import utils\n",
    "HardwareManager.dtype = torch.float32\n",
    "\n",
    "utils.eval(val_loader, model)\n",
    "\n"
   ]
  },
  {
   "cell_type": "code",
   "execution_count": null,
   "id": "f37f5f9c-680c-4386-9061-b1e91aa75b17",
   "metadata": {},
   "outputs": [],
   "source": []
  },
  {
   "cell_type": "code",
   "execution_count": null,
   "id": "66b26523-2958-4a85-bb6d-7863e181d283",
   "metadata": {},
   "outputs": [],
   "source": []
  }
 ],
 "metadata": {
  "kernelspec": {
   "display_name": "Python 3 (ipykernel)",
   "language": "python",
   "name": "python3"
  },
  "language_info": {
   "codemirror_mode": {
    "name": "ipython",
    "version": 3
   },
   "file_extension": ".py",
   "mimetype": "text/x-python",
   "name": "python",
   "nbconvert_exporter": "python",
   "pygments_lexer": "ipython3",
   "version": "3.9.5"
  }
 },
 "nbformat": 4,
 "nbformat_minor": 5
}

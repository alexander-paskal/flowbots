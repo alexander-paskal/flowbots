{
 "cells": [
  {
   "cell_type": "code",
   "execution_count": 32,
   "id": "7fece656-b14d-4ecb-bdd8-13195d1d96d1",
   "metadata": {},
   "outputs": [],
   "source": [
    "import cv2\n",
    "import numpy as np\n",
    "import torch\n",
    "import matplotlib.pyplot as plt\n",
    "from PIL import Image"
   ]
  },
  {
   "cell_type": "code",
   "execution_count": 2,
   "id": "02ee773a-406c-4f8c-8ae8-678b805e7186",
   "metadata": {},
   "outputs": [],
   "source": [
    "from utils import load_model, display_flow\n",
    "model, info = load_model(\"flownet-ss-first-0607\")"
   ]
  },
  {
   "cell_type": "code",
   "execution_count": 3,
   "id": "50f8c5a1-afbf-4496-adde-a40581143d12",
   "metadata": {},
   "outputs": [
    {
     "name": "stdout",
     "output_type": "stream",
     "text": [
      "100\n",
      "200\n",
      "(21, 3, 720, 1280)\n",
      "torch.Size([21, 3, 384, 512])\n",
      "torch.Size([20, 6, 384, 512])\n"
     ]
    }
   ],
   "source": [
    "video = \"JABBAWOCKEEZ\"\n",
    "\n",
    "\n",
    "vidcap = cv2.VideoCapture(f'video/{video}.mp4')\n",
    "sec = 0\n",
    "\n",
    "\n",
    "frameRate = 0.5\n",
    "count=1\n",
    "\n",
    "tensors = []\n",
    "FRAMES = 21\n",
    "EVERY = 10\n",
    "\n",
    "while True:\n",
    "    count += 1\n",
    "    if count % EVERY != 0:\n",
    "        continue\n",
    "    if count // EVERY > FRAMES:\n",
    "        break\n",
    "        \n",
    "    if count % 100 == 0:\n",
    "        print(count)\n",
    "\n",
    "    success, im = vidcap.read()\n",
    "    if not success:\n",
    "        break\n",
    "    arr = np.transpose(im, (2,0,1))\n",
    "    tensors.append(arr)\n",
    "    \n",
    "data = np.array(tensors)\n",
    "data = data/ 255\n",
    "print(data.shape)\n",
    "t = torch.tensor(data, dtype=torch.float32)\n",
    "t = torch.nn.functional.interpolate(t, size=(384, 512))\n",
    "print(t.size())\n",
    "del data\n",
    "\n",
    "im1_all = t[:-1, :, :, :]\n",
    "im2_all = t[1:, :, :, :]\n",
    "X = torch.concat([im1_all, im2_all], dim=1)\n",
    "print(X.size())\n",
    "del im1_all, im2_all\n",
    "\n",
    "device = torch.device('cpu')\n",
    "X = X.to(device)\n",
    "model = model.to(device)\n",
    "\n",
    "Y = []\n",
    "BATCH_SIZE = 1\n",
    "batches = [X[BATCH_SIZE*i:BATCH_SIZE*(i + 1), :, :, :] for i in range(X.size(0)//BATCH_SIZE)]\n",
    "\n",
    "\n",
    "Y = []\n",
    "\n",
    "for i, x in enumerate(batches):\n",
    "    print(f\"Batch\",i)\n",
    "    y = model(x)\n",
    "    Y.append(y)\n",
    "\n",
    "\n",
    "FLOW_T = torch.cat(Y, dim=0)\n",
    "FLOW_T.size()\n",
    "\n",
    "del X, Y\n",
    "\n",
    "flow = FLOW_T.detach().numpy()\n",
    "del FLOW\n",
    "\n",
    "N, C, H, W = flow.shape\n",
    "zeros = np.zeros((N, 1, H, W))\n",
    "flow_rgb = np.concatenate([flow, zeros], axis=1)\n",
    "flow_rgb = np.transpose(flow_rgb, (0, 2, 3, 1))\n",
    "flow_rgb -= flow_rgb.min()\n",
    "flow_rgb /= flow_rgb.max()\n",
    "del flow, zeros\n",
    "print(flow_rgb.shape)\n",
    "\n",
    "frames = []\n",
    "for arr in flow_rgb:\n",
    "    arr = (arr * 255).astype(np.uint8)\n",
    "    flow = Image.fromarray(arr)\n",
    "    frames.append(arr)\n"
   ]
  },
  {
   "cell_type": "code",
   "execution_count": 50,
   "id": "c04cfaa3-bfdb-4cde-9e89-9ee642e3565f",
   "metadata": {},
   "outputs": [],
   "source": [
    "def write_video(file_path, frames, fps):\n",
    "    \"\"\"\n",
    "    Writes frames to an mp4 video file\n",
    "    :param file_path: Path to output video, must end with .mp4\n",
    "    :param frames: List of PIL.Image objects\n",
    "    :param fps: Desired frame rate\n",
    "    \"\"\"\n",
    "    \n",
    "    w, h = frames[0].shape[1:]\n",
    "    fourcc = cv2.VideoWriter_fourcc('m', 'p', '4', 'v')\n",
    "    writer = cv2.VideoWriter(file_path, fourcc, fps, (w, h), True)\n",
    "\n",
    "    for frame in frames:\n",
    "        frame = frame * 255\n",
    "        frame = frame.astype(np.uint8)\n",
    "        writer.write(cv2.cvtColor(frame, cv2.COLOR_RGB2BGR))\n",
    "\n",
    "    writer.release() \n",
    "\n",
    "OUTPATH = f\"video/{video}_flow.mp4\"\n",
    "write_video(OUTPATH, flow_rgb, 60)\n"
   ]
  },
  {
   "cell_type": "code",
   "execution_count": 52,
   "id": "79f7443a-9f28-4cbe-a088-bd77dd77100e",
   "metadata": {},
   "outputs": [
    {
     "name": "stdout",
     "output_type": "stream",
     "text": [
      "(384, 512, 3)\n",
      "(384, 512, 3)\n",
      "(384, 512, 3)\n",
      "(384, 512, 3)\n",
      "(384, 512, 3)\n",
      "(384, 512, 3)\n",
      "(384, 512, 3)\n",
      "(384, 512, 3)\n",
      "(384, 512, 3)\n",
      "(384, 512, 3)\n",
      "(384, 512, 3)\n",
      "(384, 512, 3)\n",
      "(384, 512, 3)\n",
      "(384, 512, 3)\n",
      "(384, 512, 3)\n",
      "(384, 512, 3)\n",
      "(384, 512, 3)\n",
      "(384, 512, 3)\n",
      "(384, 512, 3)\n",
      "(384, 512, 3)\n"
     ]
    }
   ],
   "source": [
    "out = cv2.VideoWriter(OUTPATH,cv2.VideoWriter_fourcc(*'DIVX'), 30, (382, 512))\n",
    "for i in flow_rgb:\n",
    "    print(i.shape)\n",
    "    i = i * 255\n",
    "    i = i.astype(np.uint8)\n",
    "    out.write(i)\n",
    "out.release()"
   ]
  },
  {
   "cell_type": "code",
   "execution_count": 51,
   "id": "de168501-f8e9-43fe-b7de-222b00eb18c1",
   "metadata": {},
   "outputs": [
    {
     "data": {
      "text/plain": [
       "(20, 384, 512, 3)"
      ]
     },
     "execution_count": 51,
     "metadata": {},
     "output_type": "execute_result"
    }
   ],
   "source": [
    "flow_rgb.shape"
   ]
  },
  {
   "cell_type": "code",
   "execution_count": null,
   "id": "6befb0d2-4e9c-46a7-9dad-36b05df3cf0e",
   "metadata": {},
   "outputs": [],
   "source": []
  }
 ],
 "metadata": {
  "kernelspec": {
   "display_name": "Python 3 (ipykernel)",
   "language": "python",
   "name": "python3"
  },
  "language_info": {
   "codemirror_mode": {
    "name": "ipython",
    "version": 3
   },
   "file_extension": ".py",
   "mimetype": "text/x-python",
   "name": "python",
   "nbconvert_exporter": "python",
   "pygments_lexer": "ipython3",
   "version": "3.9.5"
  }
 },
 "nbformat": 4,
 "nbformat_minor": 5
}
